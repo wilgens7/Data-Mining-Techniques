{
 "cells": [
  {
   "cell_type": "code",
   "execution_count": 1,
   "metadata": {
    "colab": {},
    "colab_type": "code",
    "id": "5ROrxhDFvx0_"
   },
   "outputs": [],
   "source": [
    "#!pip install prince"
   ]
  },
  {
   "cell_type": "markdown",
   "metadata": {
    "colab_type": "text",
    "id": "AHVv6T4ev7Mg"
   },
   "source": [
    "#Imports"
   ]
  },
  {
   "cell_type": "code",
   "execution_count": 2,
   "metadata": {
    "colab": {},
    "colab_type": "code",
    "id": "HOC4s-iJvx1H"
   },
   "outputs": [],
   "source": [
    "#Imports\n",
    "import pandas as pd  \n",
    "import numpy as np  \n",
    "import matplotlib.pyplot as plt  \n",
    "\n",
    "import seaborn as sns\n",
    "from sklearn.model_selection import train_test_split \n",
    "from sklearn.model_selection import ShuffleSplit\n",
    "from sklearn.model_selection import cross_val_score\n",
    "from sklearn.linear_model import LinearRegression\n",
    "from sklearn.linear_model import LogisticRegression\n",
    "from sklearn.naive_bayes import GaussianNB\n",
    "from sklearn.ensemble import RandomForestClassifier\n",
    "from sklearn.tree import DecisionTreeClassifier\n",
    "from sklearn import metrics\n",
    "from sklearn.manifold import MDS\n",
    "\n",
    "import sys\n",
    "\n",
    "if not sys.warnoptions:\n",
    "    import warnings\n",
    "    warnings.simplefilter(\"ignore\")\n"
   ]
  },
  {
   "cell_type": "markdown",
   "metadata": {
    "colab_type": "text",
    "id": "GkwN3sixv_IK"
   },
   "source": [
    "#Loading Data"
   ]
  },
  {
   "cell_type": "code",
   "execution_count": 3,
   "metadata": {
    "colab": {
     "base_uri": "https://localhost:8080/",
     "height": 54
    },
    "colab_type": "code",
    "id": "HscV8PJVvx1L",
    "outputId": "70e116d8-22a2-47d9-ad80-a6ceba978b06"
   },
   "outputs": [
    {
     "ename": "ModuleNotFoundError",
     "evalue": "No module named 'google.colab'",
     "output_type": "error",
     "traceback": [
      "\u001b[0;31m---------------------------------------------------------------------------\u001b[0m",
      "\u001b[0;31mModuleNotFoundError\u001b[0m                       Traceback (most recent call last)",
      "\u001b[0;32m<ipython-input-3-ba03cdc3a40d>\u001b[0m in \u001b[0;36m<module>\u001b[0;34m\u001b[0m\n\u001b[1;32m      1\u001b[0m \u001b[0;31m#======================LOADING DATA INTO DATAFRAME====================\u001b[0m\u001b[0;34m\u001b[0m\u001b[0;34m\u001b[0m\u001b[0;34m\u001b[0m\u001b[0m\n\u001b[1;32m      2\u001b[0m \u001b[0;31m#Mounting Google Drive\u001b[0m\u001b[0;34m\u001b[0m\u001b[0;34m\u001b[0m\u001b[0;34m\u001b[0m\u001b[0m\n\u001b[0;32m----> 3\u001b[0;31m \u001b[0;32mfrom\u001b[0m \u001b[0mgoogle\u001b[0m\u001b[0;34m.\u001b[0m\u001b[0mcolab\u001b[0m \u001b[0;32mimport\u001b[0m \u001b[0mdrive\u001b[0m\u001b[0;34m\u001b[0m\u001b[0;34m\u001b[0m\u001b[0m\n\u001b[0m\u001b[1;32m      4\u001b[0m \u001b[0mdrive\u001b[0m\u001b[0;34m.\u001b[0m\u001b[0mmount\u001b[0m\u001b[0;34m(\u001b[0m\u001b[0;34m'/content/drive'\u001b[0m\u001b[0;34m)\u001b[0m\u001b[0;34m\u001b[0m\u001b[0;34m\u001b[0m\u001b[0m\n",
      "\u001b[0;31mModuleNotFoundError\u001b[0m: No module named 'google.colab'"
     ]
    }
   ],
   "source": []
  },
  {
   "cell_type": "code",
   "execution_count": null,
   "metadata": {
    "colab": {},
    "colab_type": "code",
    "id": "Kav2BnQk1lRw"
   },
   "outputs": [],
   "source": [
    "#Importing data\n",
    "data = pd.read_csv('monroe-county-crash-data2003-to-2015.csv',encoding='latin1')"
   ]
  },
  {
   "cell_type": "code",
   "execution_count": null,
   "metadata": {
    "colab": {
     "base_uri": "https://localhost:8080/",
     "height": 467
    },
    "colab_type": "code",
    "id": "F0YZ5-zfwMWI",
    "outputId": "e915949d-e7a9-4a98-ff63-171d394df1ff"
   },
   "outputs": [],
   "source": [
    "#peaking at data\n",
    "print(data.head())"
   ]
  },
  {
   "cell_type": "code",
   "execution_count": null,
   "metadata": {
    "colab": {},
    "colab_type": "code",
    "id": "_ktQ5QZhvx1Q"
   },
   "outputs": [],
   "source": [
    "#saving original version of data\n",
    "original_data = data.copy()"
   ]
  },
  {
   "cell_type": "markdown",
   "metadata": {
    "colab_type": "text",
    "id": "1hjWwtCfwgcM"
   },
   "source": [
    "#Preprocessing"
   ]
  },
  {
   "cell_type": "markdown",
   "metadata": {
    "colab_type": "text",
    "id": "JFaDSX0gw3Ha"
   },
   "source": [
    "###Dropping unnecessary columns and Rows with Null Values"
   ]
  },
  {
   "cell_type": "code",
   "execution_count": null,
   "metadata": {
    "colab": {
     "base_uri": "https://localhost:8080/",
     "height": 67
    },
    "colab_type": "code",
    "id": "pG_Vn2rkvx1U",
    "outputId": "a9f1f83f-037c-4bf2-91df-fcc6c724ed44"
   },
   "outputs": [],
   "source": [
    "#======================PREPROCESSING==================================\n",
    "\n",
    "#1 drop Master Record Number colum. it serves no purpose in this case\n",
    "data.drop('Master Record Number',axis = 1,inplace=True)\n",
    "data.drop('Reported_Location',axis = 1,inplace=True)\n",
    "\n",
    "data.columns"
   ]
  },
  {
   "cell_type": "code",
   "execution_count": null,
   "metadata": {
    "colab": {},
    "colab_type": "code",
    "id": "v4oOhyNgvx1X"
   },
   "outputs": [],
   "source": []
  },
  {
   "cell_type": "code",
   "execution_count": null,
   "metadata": {
    "colab": {},
    "colab_type": "code",
    "id": "pmuzG8M3vx1b"
   },
   "outputs": [],
   "source": [
    "#3 dropping records with blank hours\n",
    "data = data.dropna(subset=['Hour'])"
   ]
  },
  {
   "cell_type": "code",
   "execution_count": null,
   "metadata": {
    "colab": {
     "base_uri": "https://localhost:8080/",
     "height": 34
    },
    "colab_type": "code",
    "id": "G7dEcjeUvx1f",
    "outputId": "17792cb4-4b78-429d-ec1b-c49e8d0b3dbb"
   },
   "outputs": [],
   "source": [
    "#4 droping invalid latitude and longitude\n",
    "\n",
    "print(len(data[(data.Latitude == 0) \n",
    "\t|(data.Latitude == 1) \n",
    "\t| (data.Longitude == 0)\n",
    "\t|(data.Longitude == 1)\n",
    "\t|(data.Longitude.isna()\n",
    "\t|(data.Latitude.isna()))]))\n",
    "\n",
    "#print(len(data))\n",
    "\n",
    "data = data.drop(data[(data.Latitude == 0) \n",
    "\t|(data.Latitude == 1) \n",
    "\t| (data.Longitude == 0)\n",
    "\t|(data.Longitude == 1)\n",
    "\t|(data.Longitude.isna()\n",
    "\t|(data.Latitude.isna()))].index)"
   ]
  },
  {
   "cell_type": "markdown",
   "metadata": {
    "colab_type": "text",
    "id": "ZXdfMMjVxRY4"
   },
   "source": [
    "###Replacing Invalid Values with Correct Values"
   ]
  },
  {
   "cell_type": "code",
   "execution_count": null,
   "metadata": {
    "colab": {},
    "colab_type": "code",
    "id": "dJGXR5sqxMjJ"
   },
   "outputs": [],
   "source": [
    "data['Latitude'][data['Latitude']<=9.133739] = 39.133739\n",
    "data['Latitude'][data['Latitude']<=9.183292] = 39.183292"
   ]
  },
  {
   "cell_type": "markdown",
   "metadata": {
    "colab_type": "text",
    "id": "iYfDrNt-xZWk"
   },
   "source": [
    "#Exploring Data"
   ]
  },
  {
   "cell_type": "markdown",
   "metadata": {
    "colab_type": "text",
    "id": "_4Y6DweC6zZE"
   },
   "source": [
    "##Plotting"
   ]
  },
  {
   "cell_type": "code",
   "execution_count": null,
   "metadata": {
    "colab": {
     "base_uri": "https://localhost:8080/",
     "height": 586
    },
    "colab_type": "code",
    "id": "uLPTn0ZHP4Wc",
    "outputId": "5de92e2f-ed34-40f9-93bf-a732ac5bf25f"
   },
   "outputs": [],
   "source": [
    "print(data)"
   ]
  },
  {
   "cell_type": "markdown",
   "metadata": {
    "colab_type": "text",
    "id": "1G9wsULX5FNo"
   },
   "source": [
    "###Dimensionality reduction"
   ]
  },
  {
   "cell_type": "markdown",
   "metadata": {
    "colab_type": "text",
    "id": "Gg5KTf0rmt77"
   },
   "source": []
  },
  {
   "cell_type": "code",
   "execution_count": null,
   "metadata": {
    "colab": {},
    "colab_type": "code",
    "id": "ZcrI7EdVn8yr"
   },
   "outputs": [],
   "source": [
    "from sklearn import preprocessing\n",
    "import prince\n",
    "\n",
    "data_to_reduce = data"
   ]
  },
  {
   "cell_type": "code",
   "execution_count": null,
   "metadata": {
    "colab": {},
    "colab_type": "code",
    "id": "ucH2x7R2vx2L"
   },
   "outputs": [],
   "source": [
    "#Droping null values \n",
    "data_to_reduce.dropna(inplace= True)"
   ]
  },
  {
   "cell_type": "code",
   "execution_count": null,
   "metadata": {
    "colab": {},
    "colab_type": "code",
    "id": "cXI1aAaMvx2Z"
   },
   "outputs": [],
   "source": [
    "#MCA multiple correspondence analysis \n",
    "mca = prince.FAMD(n_components = 9,\n",
    "                 n_iter = 5,\n",
    "                 copy = True,\n",
    "                 check_input = True,\n",
    "                 engine = 'auto',\n",
    "                 random_state = 42)\n",
    "mca.fit(data_to_reduce)"
   ]
  },
  {
   "cell_type": "code",
   "execution_count": null,
   "metadata": {
    "colab": {},
    "colab_type": "code",
    "id": "oO26pmwGvx2c"
   },
   "outputs": [],
   "source": [
    "mca_components = mca.row_coordinates(data_to_reduce)\n",
    "print(mca_components.head())"
   ]
  },
  {
   "cell_type": "code",
   "execution_count": null,
   "metadata": {
    "colab": {},
    "colab_type": "code",
    "id": "Ys3yF2eoJubq"
   },
   "outputs": [],
   "source": [
    "#saving reference to reduced data \n",
    "reduced_data = mca_components"
   ]
  },
  {
   "cell_type": "code",
   "execution_count": null,
   "metadata": {
    "colab": {
     "base_uri": "https://localhost:8080/",
     "height": 314
    },
    "colab_type": "code",
    "id": "cg9O9vq7vx2f",
    "outputId": "4b17c392-a729-4cf2-f665-c218416e8502"
   },
   "outputs": [],
   "source": [
    "#contribution of each component to data\n",
    "comp_percentages = pd.DataFrame(sorted(mca.explained_inertia_,reverse = True))\n",
    "print(comp_percentages)"
   ]
  },
  {
   "cell_type": "code",
   "execution_count": null,
   "metadata": {
    "colab": {
     "base_uri": "https://localhost:8080/",
     "height": 276
    },
    "colab_type": "code",
    "id": "D6s1YGyXvx2i",
    "outputId": "9007c306-ba48-4586-97cf-961000e45697"
   },
   "outputs": [],
   "source": [
    "#plotting of components \n",
    "comp_percentages.plot(kind = 'bar')"
   ]
  },
  {
   "cell_type": "markdown",
   "metadata": {
    "colab_type": "text",
    "id": "2xmebLU7lGLq"
   },
   "source": [
    "######Initial Plotting\n",
    "\n",
    "Since the firt component accounts for most of the data, we try an initial 1-D plot with just the first component. Already it hints at four clusters. The only class with four distint categories is the injury type class. This might be a clue as of what these groupings mean."
   ]
  },
  {
   "cell_type": "code",
   "execution_count": null,
   "metadata": {
    "colab": {
     "base_uri": "https://localhost:8080/",
     "height": 289
    },
    "colab_type": "code",
    "id": "uY4foYZDjCFl",
    "outputId": "69d89c38-abde-40dc-d70f-675e2018dc59"
   },
   "outputs": [],
   "source": [
    "sns.scatterplot(mca_components[0],1)"
   ]
  },
  {
   "cell_type": "code",
   "execution_count": null,
   "metadata": {
    "colab": {},
    "colab_type": "code",
    "id": "iQVHZ3w_jljy"
   },
   "outputs": [],
   "source": []
  },
  {
   "cell_type": "markdown",
   "metadata": {
    "colab_type": "text",
    "id": "5LEJCpdHlpFV"
   },
   "source": [
    "######2D Plot\n",
    "\n",
    "Again we try to plot in 2-D to see if there are any patterns embedded in the data. "
   ]
  },
  {
   "cell_type": "code",
   "execution_count": null,
   "metadata": {
    "colab": {
     "base_uri": "https://localhost:8080/",
     "height": 289
    },
    "colab_type": "code",
    "id": "jWvu1ODTUi8N",
    "outputId": "b644cf66-3ef5-4ab7-cc54-137cfbbea019"
   },
   "outputs": [],
   "source": [
    "#initial plotting\n",
    "x,y = mca_components[0],mca_components[1]\n",
    "sns.scatterplot(x,y)"
   ]
  },
  {
   "cell_type": "markdown",
   "metadata": {
    "colab_type": "text",
    "id": "8qmd3mCQl9la"
   },
   "source": [
    "There seems to be more clusters. Let's test our hypothesis on if they have a correlation with the Injury Type categories. "
   ]
  },
  {
   "cell_type": "code",
   "execution_count": null,
   "metadata": {
    "colab": {
     "base_uri": "https://localhost:8080/",
     "height": 50
    },
    "colab_type": "code",
    "id": "kgrJhVeAV6dz",
    "outputId": "a3574334-11ef-4b78-89bb-602d7d7ea0fe"
   },
   "outputs": [],
   "source": [
    "injury_types = data_to_reduce['Injury Type'].unique()\n",
    "print(injury_types)"
   ]
  },
  {
   "cell_type": "code",
   "execution_count": null,
   "metadata": {
    "colab": {
     "base_uri": "https://localhost:8080/",
     "height": 279
    },
    "colab_type": "code",
    "id": "gcC1So-RU_z5",
    "outputId": "996f39ab-49bd-4101-9076-3788b82b0d06"
   },
   "outputs": [],
   "source": [
    "#testing clusters in plot\n",
    "x1,y1 = x[data_to_reduce['Injury Type'] == injury_types[0]],y[data_to_reduce['Injury Type'] == injury_types[0]]\n",
    "x2,y2 = x[data_to_reduce['Injury Type'] == injury_types[1]],y[data_to_reduce['Injury Type'] == injury_types[1]]\n",
    "x3,y3 = x[data_to_reduce['Injury Type'] == injury_types[2]],y[data_to_reduce['Injury Type'] == injury_types[2]]\n",
    "x4,y4 = x[data_to_reduce['Injury Type'] == injury_types[3]],y[data_to_reduce['Injury Type'] == injury_types[3]]\n",
    "\n",
    "plt.scatter(x1,y1,color = 'blue')\n",
    "plt.scatter(x2,y2,color = 'red')\n",
    "plt.scatter(x3,y3,color ='green')\n",
    "plt.scatter(x4,y4,color ='black')\n"
   ]
  },
  {
   "cell_type": "markdown",
   "metadata": {
    "colab_type": "text",
    "id": "9DPxAuiFXvgW"
   },
   "source": [
    "\n",
    "######Clusters are more or less uniformed. Green and black are part of the same clusters, which can mean there should be three classes instead of 4. But further analysis is needed. \n",
    "\n"
   ]
  },
  {
   "cell_type": "markdown",
   "metadata": {
    "colab_type": "text",
    "id": "LGnRxKGyZV8F"
   },
   "source": [
    "####3D plot"
   ]
  },
  {
   "cell_type": "code",
   "execution_count": null,
   "metadata": {
    "colab": {},
    "colab_type": "code",
    "id": "LWdqxPZzZY1E"
   },
   "outputs": [],
   "source": [
    "from mpl_toolkits.mplot3d import Axes3D"
   ]
  },
  {
   "cell_type": "code",
   "execution_count": null,
   "metadata": {
    "colab": {},
    "colab_type": "code",
    "id": "lMT04ymNbbYq"
   },
   "outputs": [],
   "source": [
    "#defining z\n",
    "z = mca_components[2]\n",
    "\n",
    "z1,z2,z3,z4 = z[data_to_reduce['Injury Type'] == injury_types[0]],z[data_to_reduce['Injury Type'] == injury_types[1]],z[data_to_reduce['Injury Type'] == injury_types[2]],z[data_to_reduce['Injury Type'] == injury_types[3]]\n"
   ]
  },
  {
   "cell_type": "markdown",
   "metadata": {
    "colab_type": "text",
    "id": "zkpbpKq_gK0r"
   },
   "source": [
    "#####Different angles "
   ]
  },
  {
   "cell_type": "code",
   "execution_count": null,
   "metadata": {
    "colab": {
     "base_uri": "https://localhost:8080/",
     "height": 265
    },
    "colab_type": "code",
    "id": "K8so0BLEZgAv",
    "outputId": "f0ee92c5-d19d-4c33-96d4-4cd9ea5880c4"
   },
   "outputs": [],
   "source": [
    "\n",
    "fig = plt.figure()\n",
    "ax = fig.add_subplot(111, projection='3d')\n",
    "\n",
    "ax.scatter(x1,y1,z1,c='blue')\n",
    "ax.scatter(x2,y2,z2,c='red')\n",
    "ax.scatter(x3,y3,z3,c='green')\n",
    "ax.scatter(x4,y4,z4,c='black')"
   ]
  },
  {
   "cell_type": "code",
   "execution_count": null,
   "metadata": {
    "colab": {
     "base_uri": "https://localhost:8080/",
     "height": 265
    },
    "colab_type": "code",
    "id": "TVE_6dcTdAz4",
    "outputId": "92ab5e61-b8bc-4598-f1bb-7970f54b6191"
   },
   "outputs": [],
   "source": [
    "fig = plt.figure()\n",
    "ax = fig.add_subplot(111, projection='3d')\n",
    "\n",
    "ax.scatter(z1,y1,x1,c='blue')\n",
    "ax.scatter(z2,y2,x2,c='red')\n",
    "ax.scatter(z3,y3,x3,c='green')\n",
    "ax.scatter(z4,y4,x4,c='black')"
   ]
  },
  {
   "cell_type": "code",
   "execution_count": null,
   "metadata": {
    "colab": {
     "base_uri": "https://localhost:8080/",
     "height": 265
    },
    "colab_type": "code",
    "id": "EkESg9ygdB9W",
    "outputId": "e6abb1e0-7903-4626-a835-203fa1f7ba5a"
   },
   "outputs": [],
   "source": [
    "fig = plt.figure()\n",
    "ax = fig.add_subplot(111, projection='3d')\n",
    "\n",
    "ax.scatter(y1,x1,z1,c='blue')\n",
    "ax.scatter(y2,x2,z2,c='red')\n",
    "ax.scatter(y3,x3,z3,c='green')\n",
    "ax.scatter(y4,x4,z4,c='black')"
   ]
  },
  {
   "cell_type": "code",
   "execution_count": null,
   "metadata": {
    "colab": {
     "base_uri": "https://localhost:8080/",
     "height": 265
    },
    "colab_type": "code",
    "id": "VoTavE-fdsVj",
    "outputId": "d195f4b7-6ae6-437b-871d-b778e6cba6a1"
   },
   "outputs": [],
   "source": [
    "fig = plt.figure()\n",
    "ax = fig.add_subplot(111, projection='3d')\n",
    "\n",
    "ax.scatter(y1,z1,x1,c='blue')\n",
    "ax.scatter(y2,z2,x2,c='red')\n",
    "ax.scatter(y3,z3,x3,c='green')\n",
    "ax.scatter(y4,z4,x4,c='black')"
   ]
  },
  {
   "cell_type": "markdown",
   "metadata": {
    "colab_type": "text",
    "id": "OAvh1p7sgPJ9"
   },
   "source": [
    "######conclusion\n",
    "\n",
    "We can see that at different angles we can seperate 3 different clusters into respective layers: Blue, Red, and Green+Black. In all the angles, green and black seem to be of the same cluster. Since the color code is based on the Injury Types, we can conclude that there are supposed to be three classes instead of four. "
   ]
  },
  {
   "cell_type": "markdown",
   "metadata": {
    "colab_type": "text",
    "id": "YpGuaArKoT3V"
   },
   "source": [
    "###Over Sampling \n",
    "\n",
    "Let's check the distribution of data to see if what were infereing matches with what's actually there. "
   ]
  },
  {
   "cell_type": "code",
   "execution_count": null,
   "metadata": {
    "colab": {},
    "colab_type": "code",
    "id": "maKBLGSkvx1z"
   },
   "outputs": [],
   "source": [
    "#In order to plot the data we have to do dimensionality reduction \n",
    "#from sklearn import preprocessing\n",
    "#import prince\n",
    "\n",
    "#encoder = preprocessing.LabelEncoder()\n",
    "\n",
    "#data_to_reduce = data\n",
    "#data_to_reduce['Collision Type'] = encoder.fit_transform(original_data['Collision Type'].astype('str'))\n",
    "\n",
    "#data_to_reduce['Primary Factor'] = encoder.fit_transform(original_data['Primary Factor'].astype('str'))\n",
    "\n",
    "#data_to_reduce['Weekend?'] = encoder.fit_transform(original_data['Weekend?'].astype('str'))\n",
    "\n",
    "#data_to_reduce.dropna(inplace = True)"
   ]
  },
  {
   "cell_type": "code",
   "execution_count": null,
   "metadata": {
    "colab": {},
    "colab_type": "code",
    "id": "CxLyW09Hvx12"
   },
   "outputs": [],
   "source": [
    "#changing data type of text types \n",
    "#for i in ['Weekend?','Collision Type','Injury Type','Primary Factor']:\n",
    "  #data_to_reduce[i] = data_to_reduce[i].astype('str')"
   ]
  },
  {
   "cell_type": "code",
   "execution_count": null,
   "metadata": {
    "colab": {},
    "colab_type": "code",
    "id": "l_F1O41WTKCf"
   },
   "outputs": [],
   "source": []
  },
  {
   "cell_type": "code",
   "execution_count": null,
   "metadata": {
    "colab": {},
    "colab_type": "code",
    "id": "yqqBxK3Uvx15"
   },
   "outputs": [],
   "source": [
    "####CHECK FOR OVER SAMPLING POSSIBILITY USING SMOTE\n",
    "#Distribution of target class\n",
    "from collections import Counter\n",
    "\n",
    "dist = pd.DataFrame(Counter(data_to_reduce['Injury Type']).items())\n",
    "dist = dist.set_index(dist[0]).drop(0,axis = 'columns')\n"
   ]
  },
  {
   "cell_type": "code",
   "execution_count": null,
   "metadata": {
    "colab": {
     "base_uri": "https://localhost:8080/",
     "height": 344
    },
    "colab_type": "code",
    "id": "09YwfNJGvx17",
    "outputId": "41efe8c5-ea18-41b2-b4c1-f827546cb0b1"
   },
   "outputs": [],
   "source": [
    "# dist plot *\n",
    "plot = dist[[1]].plot(kind=\"bar\");\n",
    "plot.set_title(\"Injury Type Distribution\", fontsize=20);\n",
    "plot.grid(color='lightgray', alpha=0.5);"
   ]
  },
  {
   "cell_type": "markdown",
   "metadata": {
    "colab_type": "text",
    "id": "Wk6JxuAmrHx4"
   },
   "source": [
    "We can see that the representation of each Injury Type in the data is no where near even. We have to use some sort of sampling technique. "
   ]
  },
  {
   "cell_type": "code",
   "execution_count": null,
   "metadata": {
    "colab": {},
    "colab_type": "code",
    "id": "IN4Ru6iSvx2A"
   },
   "outputs": [],
   "source": [
    "#over sampling \n",
    "from imblearn.over_sampling import SMOTENC # uses KNN to generate new samples\n",
    "from collections import Counter\n",
    "\n",
    "features,labels = data.drop('Injury Type',axis = 'columns'), data['Injury Type']\n",
    "\n",
    "#Synthetic Minority Over-Sampling Technique\n",
    "#X_resampled, y_resampled = SMOTENC(categorical_features=[0,1,2,3,4,5,6,7]).fit_resample(features,labels)"
   ]
  },
  {
   "cell_type": "code",
   "execution_count": null,
   "metadata": {
    "colab": {},
    "colab_type": "code",
    "id": "BFzB92HG0DJw"
   },
   "outputs": [],
   "source": [
    "#cols = data.drop('Injury Type',axis = 1).columns\n",
    "#cols = np.append(cols,'Injury Type')"
   ]
  },
  {
   "cell_type": "code",
   "execution_count": null,
   "metadata": {
    "colab": {},
    "colab_type": "code",
    "id": "XV-A12iZoIRE"
   },
   "outputs": [],
   "source": [
    "#res_data = pd.DataFrame(np.concatenate((X_resampled,y_resampled[:,np.newaxis]),axis = 1),columns = cols)\n",
    "#res_data"
   ]
  },
  {
   "cell_type": "markdown",
   "metadata": {
    "colab_type": "text",
    "id": "Gf067wOsvUsU"
   },
   "source": [
    "######Saving to csv file*"
   ]
  },
  {
   "cell_type": "code",
   "execution_count": null,
   "metadata": {
    "colab": {},
    "colab_type": "code",
    "id": "ceYrdK9KutFp"
   },
   "outputs": [],
   "source": [
    "#Saving res_data to csv so we don't have to regenerate it. \n",
    "#res_data.to_csv(r'drive/My Drive/Colab Notebooks/Data-Mining-Project/res_data.csv',index=False)"
   ]
  },
  {
   "cell_type": "code",
   "execution_count": null,
   "metadata": {
    "colab": {},
    "colab_type": "code",
    "id": "U5U1Wjx_1oEF"
   },
   "outputs": [],
   "source": []
  },
  {
   "cell_type": "markdown",
   "metadata": {
    "colab_type": "text",
    "id": "h5TOSGSXvgi4"
   },
   "source": [
    "#####Loading data from saved csv file"
   ]
  },
  {
   "cell_type": "code",
   "execution_count": null,
   "metadata": {
    "colab": {},
    "colab_type": "code",
    "id": "ompczF-Iv1Nj"
   },
   "outputs": [],
   "source": [
    "res_data = pd.read_csv('res_data.csv')"
   ]
  },
  {
   "cell_type": "code",
   "execution_count": null,
   "metadata": {
    "colab": {
     "base_uri": "https://localhost:8080/",
     "height": 166
    },
    "colab_type": "code",
    "id": "t1B8CvDIvx2D",
    "outputId": "084b0882-a654-4a68-8034-3f519f8b2c5a"
   },
   "outputs": [],
   "source": [
    "# new distribution of target class\n",
    "\n",
    "new_dist = Counter(res_data['Injury Type']).items() #shows that there are equal amounts in each class\n",
    "new_dist = pd.DataFrame(new_dist,index=['No Injury/Unknown','Non-incapacitating','Incapcitatin','Fatal'])\n",
    "print(new_dist)"
   ]
  },
  {
   "cell_type": "code",
   "execution_count": null,
   "metadata": {
    "colab": {
     "base_uri": "https://localhost:8080/",
     "height": 334
    },
    "colab_type": "code",
    "id": "t9_6SqLPvx2G",
    "outputId": "86e090fa-41da-4968-a0fa-3181b335f6ca"
   },
   "outputs": [],
   "source": [
    "# new dist plot \n",
    "plot = new_dist[[1]].plot(kind=\"bar\");\n",
    "plot.set_title(\"Injury Type Distribution\", fontsize=20);\n",
    "plot.grid(color='lightgray', alpha=0.5);"
   ]
  },
  {
   "cell_type": "markdown",
   "metadata": {
    "colab_type": "text",
    "id": "ddfXNpyS1wmI"
   },
   "source": [
    "###Reploting with resampled data"
   ]
  },
  {
   "cell_type": "code",
   "execution_count": null,
   "metadata": {
    "colab": {},
    "colab_type": "code",
    "id": "dMEZvrcO2OnL"
   },
   "outputs": [],
   "source": [
    "res_data.dropna(inplace=True)"
   ]
  },
  {
   "cell_type": "code",
   "execution_count": null,
   "metadata": {
    "colab": {},
    "colab_type": "code",
    "id": "A5p2glHu1_2a"
   },
   "outputs": [],
   "source": [
    "res_reduced_data = mca.fit_transform(res_data)"
   ]
  },
  {
   "cell_type": "code",
   "execution_count": null,
   "metadata": {
    "colab": {},
    "colab_type": "code",
    "id": "DFLSK4j52bPO"
   },
   "outputs": [],
   "source": [
    "#new percetages with resampled data\n",
    "res_comp_percentages = pd.DataFrame(mca.explained_inertia_)"
   ]
  },
  {
   "cell_type": "code",
   "execution_count": null,
   "metadata": {
    "colab": {
     "base_uri": "https://localhost:8080/",
     "height": 276
    },
    "colab_type": "code",
    "id": "xwHRkpRQ2uOg",
    "outputId": "fadba767-ec04-43af-b6be-50baa2d260e9"
   },
   "outputs": [],
   "source": [
    "# new percentages plot with resampled data\n",
    "pd.DataFrame(res_comp_percentages).plot(kind = 'bar')"
   ]
  },
  {
   "cell_type": "markdown",
   "metadata": {
    "colab_type": "text",
    "id": "dFRkHzvL41-t"
   },
   "source": [
    "####2D"
   ]
  },
  {
   "cell_type": "code",
   "execution_count": null,
   "metadata": {
    "colab": {
     "base_uri": "https://localhost:8080/",
     "height": 279
    },
    "colab_type": "code",
    "id": "w-xocKXR3kfE",
    "outputId": "69369720-a241-4497-eb72-efb007b2f4e9"
   },
   "outputs": [],
   "source": [
    "#testing clusters in plot\n",
    "\n",
    "x,y,z = res_reduced_data[0],res_reduced_data[1],res_reduced_data[2]\n",
    "x1,y1 = x[res_data['Injury Type'] == injury_types[0]],y[res_data['Injury Type'] == injury_types[0]]\n",
    "x2,y2 = x[res_data['Injury Type'] == injury_types[1]],y[res_data['Injury Type'] == injury_types[1]]\n",
    "x3,y3 = x[res_data['Injury Type'] == injury_types[2]],y[res_data['Injury Type'] == injury_types[2]]\n",
    "x4,y4 = x[res_data['Injury Type'] == injury_types[3]],y[res_data['Injury Type'] == injury_types[3]]\n",
    "\n",
    "plt.scatter(x1,y1,color = 'blue')\n",
    "plt.scatter(x2,y2,color = 'red')\n",
    "plt.scatter(x3,y3,color ='green')\n",
    "plt.scatter(x4,y4,color ='black')\n"
   ]
  },
  {
   "cell_type": "markdown",
   "metadata": {
    "colab_type": "text",
    "id": "33U4qGdi-Y38"
   },
   "source": [
    "####3D"
   ]
  },
  {
   "cell_type": "code",
   "execution_count": null,
   "metadata": {
    "colab": {},
    "colab_type": "code",
    "id": "cmlhxgiL5IYF"
   },
   "outputs": [],
   "source": [
    "z1,z2,z3,z4 = z[res_data['Injury Type'] == injury_types[0]],z[res_data['Injury Type'] == injury_types[1]],z[res_data['Injury Type'] == injury_types[2]],z[res_data['Injury Type'] == injury_types[3]]\n"
   ]
  },
  {
   "cell_type": "code",
   "execution_count": null,
   "metadata": {
    "colab": {
     "base_uri": "https://localhost:8080/",
     "height": 265
    },
    "colab_type": "code",
    "id": "Uajex-zN4-Kx",
    "outputId": "79ea9f65-5780-4f65-cac7-13f1bd85b327"
   },
   "outputs": [],
   "source": [
    "fig = plt.figure()\n",
    "ax = fig.add_subplot(111, projection='3d')\n",
    "\n",
    "ax.scatter(x1,y1,z1,c='blue')\n",
    "ax.scatter(x2,y2,z2,c='red')\n",
    "ax.scatter(x3,y3,z3,c='green')\n",
    "ax.scatter(x4,y4,z4,c='black')"
   ]
  },
  {
   "cell_type": "code",
   "execution_count": null,
   "metadata": {
    "colab": {
     "base_uri": "https://localhost:8080/",
     "height": 265
    },
    "colab_type": "code",
    "id": "i18uGAsN-NKM",
    "outputId": "142a38ed-41cf-4c3f-a263-064f2bba3376"
   },
   "outputs": [],
   "source": [
    "fig = plt.figure()\n",
    "ax = fig.add_subplot(111, projection='3d')\n",
    "\n",
    "ax.scatter(z1,y1,x1,c='blue')\n",
    "ax.scatter(z2,y2,x2,c='red')\n",
    "ax.scatter(z3,y3,x3,c='green')\n",
    "ax.scatter(z4,y4,x4,c='black')"
   ]
  },
  {
   "cell_type": "code",
   "execution_count": null,
   "metadata": {
    "colab": {
     "base_uri": "https://localhost:8080/",
     "height": 265
    },
    "colab_type": "code",
    "id": "DGRI6JfY-fZd",
    "outputId": "a5d2999e-ce6e-4644-c175-e6edaa3e23c6"
   },
   "outputs": [],
   "source": [
    "fig = plt.figure()\n",
    "ax = fig.add_subplot(111, projection='3d')\n",
    "\n",
    "ax.scatter(y1,x1,z1,c='blue')\n",
    "ax.scatter(y2,x2,z2,c='red')\n",
    "ax.scatter(y3,x3,z3,c='green')\n",
    "ax.scatter(y4,x4,z4,c='black')"
   ]
  },
  {
   "cell_type": "code",
   "execution_count": null,
   "metadata": {
    "colab": {
     "base_uri": "https://localhost:8080/",
     "height": 265
    },
    "colab_type": "code",
    "id": "wjJwLa0c-je1",
    "outputId": "6384bbe8-dd25-4682-e839-b04dd3679c2b"
   },
   "outputs": [],
   "source": [
    "fig = plt.figure()\n",
    "ax = fig.add_subplot(111, projection='3d')\n",
    "\n",
    "ax.scatter(y1,z1,x1,c='blue')\n",
    "ax.scatter(y2,z2,x2,c='red')\n",
    "ax.scatter(y3,z3,x3,c='green')\n",
    "ax.scatter(y4,z4,x4,c='black')"
   ]
  },
  {
   "cell_type": "markdown",
   "metadata": {
    "colab_type": "text",
    "id": "jVNhw36qDlb0"
   },
   "source": [
    "It seems like the data is not as easy to seperate anymore, at least not by Injury types. However, we see that now it creates two distinct clusters. Let's explore the data further by running K-means on both the data before over-sampling and after over-sampling. "
   ]
  },
  {
   "cell_type": "markdown",
   "metadata": {
    "colab_type": "text",
    "id": "H-eL7m8tDakH"
   },
   "source": [
    "###K-Means\n",
    "\n"
   ]
  },
  {
   "cell_type": "code",
   "execution_count": null,
   "metadata": {
    "colab": {},
    "colab_type": "code",
    "id": "QQHVSQYcDgI7"
   },
   "outputs": [],
   "source": [
    "#CLUSTERSING=================Components========================\n",
    "from sklearn.cluster import KMeans\n",
    "%config InlineBackend.figure_format='retina'"
   ]
  },
  {
   "cell_type": "markdown",
   "metadata": {
    "colab_type": "text",
    "id": "iUYf_njcHpvs"
   },
   "source": [
    "#####elbow plot function"
   ]
  },
  {
   "cell_type": "code",
   "execution_count": null,
   "metadata": {
    "colab": {},
    "colab_type": "code",
    "id": "n7KYIa_pF8_m"
   },
   "outputs": [],
   "source": [
    "#======================PCA ELBOW DEF==================\n",
    "def elbow_plot(data,num_components,num_k = range(1,10)):\n",
    "  k_num = num_k\n",
    "  inertias = []\n",
    "  for k in k_num:\n",
    "      # Create a KMeans instance with k clusters: model\n",
    "      model = KMeans(n_clusters=k)\n",
    "    \n",
    "      # Fit model to samples\n",
    "      model.fit(data.iloc[:,:num_components])\n",
    "    \n",
    "      # Append the inertia to the list of inertias\n",
    "      inertias.append(model.inertia_)\n",
    "    \n",
    "  plt.plot(k_num, inertias, '-o', color='black')\n",
    "  plt.xlabel('number of clusters, k')\n",
    "  plt.ylabel('inertia')\n",
    "  plt.xticks(k_num)\n",
    "  plt.show()"
   ]
  },
  {
   "cell_type": "markdown",
   "metadata": {
    "colab_type": "text",
    "id": "MGdXNxAwHxTK"
   },
   "source": [
    "####Elbow for both plots"
   ]
  },
  {
   "cell_type": "markdown",
   "metadata": {
    "colab_type": "text",
    "id": "gMyIRdVfKxJg"
   },
   "source": [
    "##### using 2 components"
   ]
  },
  {
   "cell_type": "code",
   "execution_count": null,
   "metadata": {
    "colab": {
     "base_uri": "https://localhost:8080/",
     "height": 280
    },
    "colab_type": "code",
    "id": "ET6Ab3jfHuVN",
    "outputId": "52411043-4dc2-4ab2-e0c8-de7afe95af75"
   },
   "outputs": [],
   "source": [
    "#elbow plot for for regular data\n",
    "elbow_plot(reduced_data,2)"
   ]
  },
  {
   "cell_type": "code",
   "execution_count": null,
   "metadata": {
    "colab": {
     "base_uri": "https://localhost:8080/",
     "height": 280
    },
    "colab_type": "code",
    "id": "QBy-0XrUIaV0",
    "outputId": "5083d530-bc87-40c3-fede-dfbca1b666af"
   },
   "outputs": [],
   "source": [
    "#elbow plot for resampled data\n",
    "elbow_plot(res_reduced_data,2)"
   ]
  },
  {
   "cell_type": "markdown",
   "metadata": {
    "colab_type": "text",
    "id": "OcYpIT3PK-8f"
   },
   "source": [
    "Here, we confirm what we visually inspected, that the resampled data clearly defines two clusters as being the ideal choice and the regular data is right between three or four. \n",
    "\n",
    "However, one thing to consider is how much of the data is being represented by the number of components in each case. "
   ]
  },
  {
   "cell_type": "code",
   "execution_count": null,
   "metadata": {
    "colab": {
     "base_uri": "https://localhost:8080/",
     "height": 84
    },
    "colab_type": "code",
    "id": "RWXzkqm4MmsF",
    "outputId": "0f76eba3-e399-4bfa-ec13-ba77f64b467c"
   },
   "outputs": [],
   "source": [
    "print(comp_percentages[:2].sum())\n",
    "print(res_comp_percentages[:2].sum())"
   ]
  },
  {
   "cell_type": "markdown",
   "metadata": {
    "colab_type": "text",
    "id": "x7OVuIfHMyxs"
   },
   "source": [
    "We see that with the first two components, the data before over sampling holds close to 60% of the data, while the resampled data only holds about 48%. What if we chose the number of components in a way that made these percentages closer to being equal."
   ]
  },
  {
   "cell_type": "code",
   "execution_count": null,
   "metadata": {
    "colab": {
     "base_uri": "https://localhost:8080/",
     "height": 84
    },
    "colab_type": "code",
    "id": "XFfTiYOlNSls",
    "outputId": "4561db56-f7ad-4286-f4fe-5e9b0749af36"
   },
   "outputs": [],
   "source": [
    "print(comp_percentages[:2].sum())\n",
    "print(res_comp_percentages[:3].sum())"
   ]
  },
  {
   "cell_type": "markdown",
   "metadata": {
    "colab_type": "text",
    "id": "lzwKtJD2Ndio"
   },
   "source": [
    "Here We see that when they are a lot closer when the resampled data uses 3 components while the original uses 2. "
   ]
  },
  {
   "cell_type": "code",
   "execution_count": null,
   "metadata": {
    "colab": {},
    "colab_type": "code",
    "id": "7XqGlP5ENcKt"
   },
   "outputs": [],
   "source": []
  },
  {
   "cell_type": "markdown",
   "metadata": {
    "colab_type": "text",
    "id": "zX-UapJmK3vz"
   },
   "source": [
    "#####using 3 components "
   ]
  },
  {
   "cell_type": "code",
   "execution_count": null,
   "metadata": {
    "colab": {
     "base_uri": "https://localhost:8080/",
     "height": 280
    },
    "colab_type": "code",
    "id": "GFFHpievK9_l",
    "outputId": "76754cdc-77a4-4ea5-f787-fe3db5ac26d1"
   },
   "outputs": [],
   "source": [
    "#elbow plot for for regular data\n",
    "elbow_plot(reduced_data,2)"
   ]
  },
  {
   "cell_type": "code",
   "execution_count": null,
   "metadata": {
    "colab": {
     "base_uri": "https://localhost:8080/",
     "height": 280
    },
    "colab_type": "code",
    "id": "IQXb0bUBLi_f",
    "outputId": "e380c300-cc48-47de-8846-90492187b713"
   },
   "outputs": [],
   "source": [
    "#elbow plot for resampled data\n",
    "elbow_plot(res_reduced_data,3)"
   ]
  },
  {
   "cell_type": "code",
   "execution_count": null,
   "metadata": {
    "colab": {
     "base_uri": "https://localhost:8080/",
     "height": 280
    },
    "colab_type": "code",
    "id": "gFuvqFHDOPd0",
    "outputId": "58b6d897-97e5-4468-fcff-8cee6b96feb5"
   },
   "outputs": [],
   "source": [
    "#resampled data with 4 components\n",
    "elbow_plot(res_reduced_data,4)"
   ]
  },
  {
   "cell_type": "markdown",
   "metadata": {
    "colab_type": "text",
    "id": "5Z4Lya8nOAYP"
   },
   "source": [
    "Here, we see something that is more consistent with our 3D plots. The data before over-sampling can separate about 3 individual clusters. However, the resampled data while it shows 2 distinct clusters at some angles, it starts looking a lot more jumbled up when the image is rotated, not to mention that the clusters provided by the resampled data are not uniformed at all. \n",
    "\n",
    "This can be due to the fact that when using over-sampling techniques, it is import to make sure that the new synthesized data examples are realistic. In the case of accident reports, it is very hard to explain by what means one would determine whether or not a specific combinations of features would be realistic or not. \n",
    "\n",
    "It can also be said that the data before over-sampling is trying to find patterns in the data that don't necessarily exist because it doesn't have enough information to accurately learn from the data. In this case, it could be that the resampled data found the right amount of clusters and they aren't necessarily related to the Injury Type. \n",
    "\n",
    "Let's try some of our hypotheses by plotting the clusters produced by KMeans and the clusters we saw by Injury Type."
   ]
  },
  {
   "cell_type": "markdown",
   "metadata": {
    "colab_type": "text",
    "id": "9rJc_W-QSMff"
   },
   "source": [
    "####Getting Clusters for data before over-sampling\n",
    "\n",
    "using the first two components "
   ]
  },
  {
   "cell_type": "code",
   "execution_count": null,
   "metadata": {
    "colab": {},
    "colab_type": "code",
    "id": "G2uIS8VZSK95"
   },
   "outputs": [],
   "source": [
    "km_model = KMeans(n_clusters=3)\n",
    "\n",
    "predicted = km_model.fit_predict(reduced_data.iloc[:,:2])"
   ]
  },
  {
   "cell_type": "code",
   "execution_count": null,
   "metadata": {
    "colab": {},
    "colab_type": "code",
    "id": "YdoKxSoGThZm"
   },
   "outputs": [],
   "source": [
    "#adding cluster assigment to data frame \n",
    "reduced_data['Cluster'] = predicted"
   ]
  },
  {
   "cell_type": "code",
   "execution_count": null,
   "metadata": {
    "colab": {},
    "colab_type": "code",
    "id": "z-Qq949eVHGv"
   },
   "outputs": [],
   "source": [
    "#getting references to each cluster\n",
    "c1 = reduced_data[reduced_data['Cluster']==0]\n",
    "c2 = reduced_data[reduced_data['Cluster']==1]\n",
    "c3 = reduced_data[reduced_data['Cluster']==2]"
   ]
  },
  {
   "cell_type": "code",
   "execution_count": null,
   "metadata": {
    "colab": {
     "base_uri": "https://localhost:8080/",
     "height": 279
    },
    "colab_type": "code",
    "id": "IZ7C3fUpVcLj",
    "outputId": "0e65f3a9-2afd-4ece-d0e1-2dc92194cf87"
   },
   "outputs": [],
   "source": [
    "#plotting clusters\n",
    "plt.scatter(c1[0],c1[1],color='blue')\n",
    "plt.scatter(c2[0],c2[1],color='red')\n",
    "plt.scatter(c3[0],c3[1],color='green')"
   ]
  },
  {
   "cell_type": "code",
   "execution_count": null,
   "metadata": {
    "colab": {},
    "colab_type": "code",
    "id": "fPos1WD5Wcpi"
   },
   "outputs": [],
   "source": []
  },
  {
   "cell_type": "code",
   "execution_count": null,
   "metadata": {
    "colab": {},
    "colab_type": "code",
    "id": "iDgZt7pmV8nQ"
   },
   "outputs": [],
   "source": [
    "#getting reference to data by Injury Types combining incapaciting and fatal as we saw in the visual\n",
    "i1 = reduced_data[data_to_reduce['Injury Type']==injury_types[0]]\n",
    "i2 = reduced_data[data_to_reduce['Injury Type']==injury_types[1]]\n",
    "i3 = reduced_data[(data_to_reduce['Injury Type']==injury_types[2])|(data_to_reduce['Injury Type']==injury_types[3])]"
   ]
  },
  {
   "cell_type": "code",
   "execution_count": null,
   "metadata": {
    "colab": {
     "base_uri": "https://localhost:8080/",
     "height": 279
    },
    "colab_type": "code",
    "id": "0yzO_3HbWyyt",
    "outputId": "7a12766c-48b0-4be6-f85d-5b011209b3fb"
   },
   "outputs": [],
   "source": [
    "#plotting by Injury Type\n",
    "plt.scatter(i1[0],i1[1],color='blue')\n",
    "plt.scatter(i2[0],i2[1],color='red')\n",
    "plt.scatter(i3[0],i3[1],color='green')"
   ]
  },
  {
   "cell_type": "markdown",
   "metadata": {
    "colab_type": "text",
    "id": "bjYJtrM4YiT8"
   },
   "source": [
    "The clusters don't really match. This is a sign that K-means is not clustering bases on Injury Type but maybe by some other attribute hidden in the data. "
   ]
  },
  {
   "cell_type": "markdown",
   "metadata": {
    "colab_type": "text",
    "id": "d0_zp36_Y7z1"
   },
   "source": [
    "####Clusters resampled data\n",
    "\n",
    "Using the first 3 components and 4 clusters as given by the elbow "
   ]
  },
  {
   "cell_type": "code",
   "execution_count": null,
   "metadata": {
    "colab": {},
    "colab_type": "code",
    "id": "sxOi8STUZE-W"
   },
   "outputs": [],
   "source": [
    "km_model = KMeans(n_clusters=4)\n",
    "\n",
    "res_predicted = km_model.fit_predict(res_reduced_data.iloc[:,:3])"
   ]
  },
  {
   "cell_type": "code",
   "execution_count": null,
   "metadata": {
    "colab": {},
    "colab_type": "code",
    "id": "jqkEk0UmZTMe"
   },
   "outputs": [],
   "source": [
    "#adding cluster assigment to data frame \n",
    "res_reduced_data['Cluster'] = res_predicted"
   ]
  },
  {
   "cell_type": "code",
   "execution_count": null,
   "metadata": {
    "colab": {},
    "colab_type": "code",
    "id": "JFqsH4RCZcsh"
   },
   "outputs": [],
   "source": [
    "#getting references to each cluster\n",
    "rc1 = res_reduced_data[res_reduced_data['Cluster']==0]\n",
    "rc2 = res_reduced_data[res_reduced_data['Cluster']==1]\n",
    "rc3 = res_reduced_data[res_reduced_data['Cluster']==2]\n",
    "rc4 = res_reduced_data[res_reduced_data['Cluster']==3]"
   ]
  },
  {
   "cell_type": "code",
   "execution_count": null,
   "metadata": {
    "colab": {
     "base_uri": "https://localhost:8080/",
     "height": 279
    },
    "colab_type": "code",
    "id": "nQrwoMsrZwWU",
    "outputId": "372c4ced-fc30-413f-ed4e-ddc5e92ca50a"
   },
   "outputs": [],
   "source": [
    "#plotting clusters\n",
    "plt.scatter(rc1[0],rc1[1],color='blue')\n",
    "plt.scatter(rc2[0],rc2[1],color='red')\n",
    "plt.scatter(rc3[0],rc3[1],color='green')\n",
    "plt.scatter(rc4[0],rc4[1],color='black')"
   ]
  },
  {
   "cell_type": "code",
   "execution_count": null,
   "metadata": {
    "colab": {},
    "colab_type": "code",
    "id": "caoQGdTNZ23Z"
   },
   "outputs": [],
   "source": [
    "#getting reference to data by Injury Types combining incapaciting and fatal as we saw in the visual\n",
    "ri1 = res_reduced_data[res_data['Injury Type']==injury_types[0]]\n",
    "ri2 = res_reduced_data[res_data['Injury Type']==injury_types[1]]\n",
    "ri3 = res_reduced_data[(res_data['Injury Type']==injury_types[2])]\n",
    "ri4 = res_reduced_data[(res_data['Injury Type']==injury_types[3])]"
   ]
  },
  {
   "cell_type": "code",
   "execution_count": null,
   "metadata": {
    "colab": {
     "base_uri": "https://localhost:8080/",
     "height": 279
    },
    "colab_type": "code",
    "id": "NT8aDCeKawdI",
    "outputId": "7c1a91df-1e89-4af3-fbe5-3de3b0def2d7"
   },
   "outputs": [],
   "source": [
    "#plotting by Injury Type\n",
    "plt.scatter(ri1[0],ri1[1],color='blue')\n",
    "plt.scatter(ri2[0],ri2[1],color='red')\n",
    "plt.scatter(ri3[0],ri3[1],color='green')\n",
    "plt.scatter(ri3[0],ri3[1],color='black')"
   ]
  },
  {
   "cell_type": "markdown",
   "metadata": {
    "colab_type": "text",
    "id": "EeRvVD8ychX1"
   },
   "source": [
    "Once again, these clusters don't seem to have a direct relationship with Injury type attribute. \n",
    "\n",
    "We can assume that the KMeans algorithms is not using the same metrics to measure closeness or similarity between the examples as we our idea of space that we infer from visually inspecting the data. It could also be that some of the features from the original data don't make sense to use in trying to uncover any significant pattern in the data. We need to see exactly how these features are correlated to each other. \n",
    "\n",
    "If KMeans is finding some hidden patterns in the data, even if we don't know what it is, we can try to use some predictive models to see if the original features can be used to predict the clusters that were found by KMeans. "
   ]
  },
  {
   "cell_type": "code",
   "execution_count": null,
   "metadata": {
    "colab": {},
    "colab_type": "code",
    "id": "7XiAx_peevFj"
   },
   "outputs": [],
   "source": []
  },
  {
   "cell_type": "markdown",
   "metadata": {
    "colab_type": "text",
    "id": "EGCgvwgkvx4j"
   },
   "source": [
    "###Descriptive Statistics"
   ]
  },
  {
   "cell_type": "code",
   "execution_count": null,
   "metadata": {
    "colab": {
     "base_uri": "https://localhost:8080/",
     "height": 1000
    },
    "colab_type": "code",
    "id": "AOkbJJ05jJwj",
    "outputId": "c77b686f-5dd6-4a24-8563-3270109a6240"
   },
   "outputs": [],
   "source": [
    "# Histograms\n",
    "for i in data[['Year','Month','Day','Hour']].columns:\n",
    "  sns.distplot(data[i])\n",
    "  plt.title(i)\n",
    "  plt.show()"
   ]
  },
  {
   "cell_type": "markdown",
   "metadata": {
    "colab_type": "text",
    "id": "HkzwXC9CllhM"
   },
   "source": [
    "from this we see that most of the time based features, except for time are evenly distributed in the data. So we can assume that they are not really going to have any predictive value for other attributes in the data. "
   ]
  },
  {
   "cell_type": "markdown",
   "metadata": {
    "colab_type": "text",
    "id": "8vLUoaLGmBZh"
   },
   "source": [
    "We'll also remove any location information from the data since we are trying to predict the injury type. \n",
    "\n",
    "But first let's see how these features are correlated with each other. "
   ]
  },
  {
   "cell_type": "markdown",
   "metadata": {
    "colab_type": "text",
    "id": "0D-niyVNgO8q"
   },
   "source": [
    "Firts we have to transform our data"
   ]
  },
  {
   "cell_type": "markdown",
   "metadata": {
    "colab_type": "text",
    "id": "tiLQd5A9x6W_"
   },
   "source": [
    "###Encoding Categorical Values"
   ]
  },
  {
   "cell_type": "code",
   "execution_count": null,
   "metadata": {
    "colab": {},
    "colab_type": "code",
    "id": "A0Dv8Vy_-vRt"
   },
   "outputs": [],
   "source": []
  },
  {
   "cell_type": "markdown",
   "metadata": {
    "colab_type": "text",
    "id": "11cu5euQGNJ0"
   },
   "source": [
    "We'll use the original data first "
   ]
  },
  {
   "cell_type": "code",
   "execution_count": null,
   "metadata": {
    "colab": {},
    "colab_type": "code",
    "id": "D9KX0z7cDJYa"
   },
   "outputs": [],
   "source": [
    "from sklearn import preprocessing\n",
    "\n",
    "le = preprocessing.LabelEncoder()\n",
    "c_data = data.copy()"
   ]
  },
  {
   "cell_type": "code",
   "execution_count": null,
   "metadata": {
    "colab": {},
    "colab_type": "code",
    "id": "02_5pJ5ODbKK"
   },
   "outputs": [],
   "source": [
    "for i in c_data.drop(['Latitude','Longitude','Month','Day'],axis='columns').columns:\n",
    "  c_data[i] = le.fit_transform(c_data[i])"
   ]
  },
  {
   "cell_type": "code",
   "execution_count": null,
   "metadata": {
    "colab": {
     "base_uri": "https://localhost:8080/",
     "height": 402
    },
    "colab_type": "code",
    "id": "twB44O2mFIWO",
    "outputId": "4c8ff44e-24f3-4959-eb65-9b56a9afb08f"
   },
   "outputs": [],
   "source": [
    "print(c_data)"
   ]
  },
  {
   "cell_type": "code",
   "execution_count": null,
   "metadata": {
    "colab": {
     "base_uri": "https://localhost:8080/",
     "height": 430
    },
    "colab_type": "code",
    "id": "1XCbDZhxD4jz",
    "outputId": "5c298db5-1260-41ac-eb34-ba5ab8978378"
   },
   "outputs": [],
   "source": [
    "print(c_data.corr())"
   ]
  },
  {
   "cell_type": "code",
   "execution_count": null,
   "metadata": {
    "colab": {
     "base_uri": "https://localhost:8080/",
     "height": 420
    },
    "colab_type": "code",
    "id": "RjEbDs9sEWCU",
    "outputId": "9867af1c-55e3-44c0-8db9-0c5a07731e27"
   },
   "outputs": [],
   "source": [
    "#HEATMAP\n",
    "cor = c_data.corr()\n",
    "\n",
    "plt.figure(figsize = (7,7))\n",
    "plt.rcParams.update({'font.size': 6})\n",
    "\n",
    "ax = sns.heatmap(\n",
    "    cor,\n",
    "    annot = True,\n",
    "    vmin=-1, vmax=1, center=0,\n",
    "    cmap=sns.diverging_palette(20, 220, n=200),\n",
    "    square=True\n",
    ")\n",
    "ax.set_xticklabels(\n",
    "    ax.get_xticklabels(),\n",
    "    rotation=45,\n",
    "    horizontalalignment='right'\n",
    ")\n",
    "plt.show()"
   ]
  },
  {
   "cell_type": "markdown",
   "metadata": {
    "colab_type": "text",
    "id": "oyk0d22lHlj4"
   },
   "source": [
    "Since the correlations are low, we'll use a threshold of .1 to select which features are correlated. Surprisingly year is correlated with Injury type so we'll trust the data and keep it, along with Collision type and Primary factor with the data. "
   ]
  },
  {
   "cell_type": "markdown",
   "metadata": {
    "colab_type": "text",
    "id": "MHTow4gfNFAH"
   },
   "source": [
    "####chi-squared function\n"
   ]
  },
  {
   "cell_type": "code",
   "execution_count": null,
   "metadata": {
    "colab": {},
    "colab_type": "code",
    "id": "5du5EOaJHjws"
   },
   "outputs": [],
   "source": [
    "from scipy.stats import chi2_contingency\n",
    "\n",
    "def chi_squared(df, c1, c2):\n",
    "    groupsizes = df.groupby([c1, c2]).size()\n",
    "    ctsum = groupsizes.unstack(c1)\n",
    "    # fillna(0) is necessary to remove any NAs which will cause exceptions\n",
    "    print(c1,' and ',c2)\n",
    "    return(chi2_contingency(ctsum.fillna(0))[:3])# returns chi-squared, P-value, and degree of freedom\n",
    "\n"
   ]
  },
  {
   "cell_type": "markdown",
   "metadata": {
    "colab_type": "text",
    "id": "aAVnM1RuQoAh"
   },
   "source": [
    "####chi squared tests"
   ]
  },
  {
   "cell_type": "code",
   "execution_count": null,
   "metadata": {
    "colab": {
     "base_uri": "https://localhost:8080/",
     "height": 252
    },
    "colab_type": "code",
    "id": "bykhkruGNBk3",
    "outputId": "66636e68-2c66-490c-b58e-9b896fe5aa2c"
   },
   "outputs": [],
   "source": [
    "for i in data.drop(['Injury Type','Latitude','Longitude'],axis='columns').columns:\n",
    "    print(chi_squared(data,'Injury Type',i))"
   ]
  },
  {
   "cell_type": "markdown",
   "metadata": {
    "colab_type": "text",
    "id": "9u8sgojSUH0m"
   },
   "source": [
    "We see that those chi-squared tests among those variables are higher as well. So we will choose the three variables Year, Collision Type, and Primary Factory for our features, using Injury Type as the target variable. "
   ]
  },
  {
   "cell_type": "markdown",
   "metadata": {
    "colab_type": "text",
    "id": "9kFd2et_vlKJ"
   },
   "source": [
    "####Feature Selection \n",
    "\n",
    "Let's use SKLearn built-in feature selection to try to see if the analysis matches ours. "
   ]
  },
  {
   "cell_type": "code",
   "execution_count": null,
   "metadata": {
    "colab": {},
    "colab_type": "code",
    "id": "drhrIszzvhWf"
   },
   "outputs": [],
   "source": []
  },
  {
   "cell_type": "markdown",
   "metadata": {
    "colab_type": "text",
    "id": "_nP262taVdIh"
   },
   "source": [
    "###Transforming Data for Training"
   ]
  },
  {
   "cell_type": "code",
   "execution_count": null,
   "metadata": {
    "colab": {
     "base_uri": "https://localhost:8080/",
     "height": 470
    },
    "colab_type": "code",
    "id": "C8k0ImUpvx1j",
    "outputId": "7dfb45be-3a66-4bd1-d77d-827e2c2dd012"
   },
   "outputs": [],
   "source": [
    "#Checking distinct primary factors\n",
    "primary_factors = data['Primary Factor'].unique()\n",
    "primary_factors"
   ]
  },
  {
   "cell_type": "code",
   "execution_count": null,
   "metadata": {
    "colab": {
     "base_uri": "https://localhost:8080/",
     "height": 34
    },
    "colab_type": "code",
    "id": "qM1a7PcHvx1m",
    "outputId": "b441e1ae-ec9c-4a32-8962-288515d8c0d0"
   },
   "outputs": [],
   "source": [
    "print(len(primary_factors))"
   ]
  },
  {
   "cell_type": "markdown",
   "metadata": {
    "colab_type": "text",
    "id": "xolUiJRLg0YR"
   },
   "source": [
    "We'll one-hot encode primary factors since the amount of disctint values seem to repeat in the data.\n",
    "\n",
    "We'll also one-hot encode the collision type.\n",
    "\n",
    "We'll label encode the injury type by level of severity, since we might want to use it as a target variable.\n",
    "\n",
    "\n"
   ]
  },
  {
   "cell_type": "code",
   "execution_count": null,
   "metadata": {
    "colab": {},
    "colab_type": "code",
    "id": "BqE5bvdxvx1p"
   },
   "outputs": [],
   "source": [
    "#one-hot encoding primary factors \n",
    "enc_primary_factor = pd.get_dummies(data['Primary Factor'],drop_first = True)\n",
    "#one-hot encoding collision types \n",
    "enc_collision_type = pd.get_dummies(data['Collision Type']).drop('Bus',axis = 'columns')\n",
    "#concatinating the two \n",
    "transformed_data = pd.concat([enc_collision_type,enc_primary_factor],axis = 'columns')\n",
    "\n",
    "#merge Injury type as target variable\n",
    "transformed_data = pd.concat([data['Year'],transformed_data,data['Injury Type']],axis = 'columns')\n",
    "\n",
    "#c Injury Type Label Encoding in order of severity \n",
    "transformed_data['Injury Type'] = transformed_data['Injury Type'].map({'No injury/unknown':0,'Non-incapacitating':1,'Incapacitating':2,'Fatal':3})\n",
    "\n",
    "#d making injury types numeric\n",
    "#transformed_data['Injury Type']=pd.to_numeric(ndf['Injury Type'])\n",
    "\n",
    "#engineering new feature that turns four class target class into a two class target\n",
    "#ndf['Severe Injury'] = ndf['Injury Type'].map({0:0,1:0,2:1,3:1})"
   ]
  },
  {
   "cell_type": "code",
   "execution_count": null,
   "metadata": {
    "colab": {
     "base_uri": "https://localhost:8080/",
     "height": 489
    },
    "colab_type": "code",
    "id": "0_L7VWnYvx5C",
    "outputId": "67d63a34-5615-4d8c-b858-cef2ad90075f"
   },
   "outputs": [],
   "source": [
    "print(transformed_data)"
   ]
  },
  {
   "cell_type": "markdown",
   "metadata": {
    "colab_type": "text",
    "id": "CDyAP4d0TQNh"
   },
   "source": [
    "now we can move on to some prediction "
   ]
  },
  {
   "cell_type": "markdown",
   "metadata": {
    "colab_type": "text",
    "id": "KjK2D8rC7AEf"
   },
   "source": [
    "#Prediction"
   ]
  },
  {
   "cell_type": "markdown",
   "metadata": {
    "colab_type": "text",
    "id": "00FLInSRFOFl"
   },
   "source": [
    "##Model Selection"
   ]
  },
  {
   "cell_type": "code",
   "execution_count": null,
   "metadata": {
    "colab": {},
    "colab_type": "code",
    "id": "yFE4yzN24HxJ"
   },
   "outputs": [],
   "source": [
    "def try_model(model, X, y):\n",
    "  #splitting train and test data\n",
    "  X_train,X_test,y_train,y_test = train_test_split(X,y,test_size = 0.2) \n",
    "\n",
    "  # Training  KNN Model\n",
    "  m = model\n",
    "  m.fit(X_train, y_train)\n",
    " \n",
    "  print (\"Cross_Validation_Mean_Score:\"\"\\n\",cross_val_score(m,X_train,y_train,cv=5).mean())\n",
    "  print()\n",
    "  print (\" Accuracy:\" \"\\n\",metrics.accuracy_score(y_test, m.predict(X_test)))\n",
    "  print()\n",
    "  print(\"Confusion Matrix:\" \"\\n\",metrics.confusion_matrix(y_test, m.predict(X_test)))\n",
    "  print()\n",
    "  print(\"Classification_Report:\" \"\\n\", metrics.classification_report(y_test, m.predict(X_test))) \n",
    "  print()\n"
   ]
  },
  {
   "cell_type": "code",
   "execution_count": null,
   "metadata": {
    "colab": {},
    "colab_type": "code",
    "id": "mIhwFTwQVtjs"
   },
   "outputs": [],
   "source": [
    "from sklearn.ensemble import RandomForestClassifier\n",
    "from sklearn.neighbors import KNeighborsClassifier \n",
    "from sklearn.linear_model import LogisticRegression"
   ]
  },
  {
   "cell_type": "code",
   "execution_count": null,
   "metadata": {
    "colab": {},
    "colab_type": "code",
    "id": "Vk7lYYSBWFFK"
   },
   "outputs": [],
   "source": [
    "rf_model = RandomForestClassifier(n_estimators=10)\n",
    "knn_model = KNeighborsClassifier()\n",
    "log_model = LogisticRegression()"
   ]
  },
  {
   "cell_type": "markdown",
   "metadata": {
    "colab_type": "text",
    "id": "CLVvZqvGXl29"
   },
   "source": [
    "###Partitioning data"
   ]
  },
  {
   "cell_type": "code",
   "execution_count": null,
   "metadata": {
    "colab": {},
    "colab_type": "code",
    "id": "cmzqGQ1Wvx2t"
   },
   "outputs": [],
   "source": [
    "#partitioning data\n",
    "X,y = transformed_data.drop('Injury Type',axis = 'columns'),transformed_data['Injury Type']"
   ]
  },
  {
   "cell_type": "markdown",
   "metadata": {
    "colab_type": "text",
    "id": "DfZhklJPXo7A"
   },
   "source": [
    "###Cross Val Scores \n",
    "\n",
    "Using transfomed data "
   ]
  },
  {
   "cell_type": "code",
   "execution_count": null,
   "metadata": {
    "colab": {
     "base_uri": "https://localhost:8080/",
     "height": 437
    },
    "colab_type": "code",
    "id": "BdvmPrdjXfzZ",
    "outputId": "59e5da1f-6ed3-4cfc-d6a5-0f8d7a551323"
   },
   "outputs": [],
   "source": [
    "#Random Forest\n",
    "try_model(rf_model,X,y)"
   ]
  },
  {
   "cell_type": "code",
   "execution_count": null,
   "metadata": {
    "colab": {
     "base_uri": "https://localhost:8080/",
     "height": 490
    },
    "colab_type": "code",
    "id": "XZlnoquZvx2x",
    "outputId": "3a423b1f-e536-477e-e3c7-dec05940816b"
   },
   "outputs": [],
   "source": [
    "#KNN\n",
    "try_model(knn_model,X,y)"
   ]
  },
  {
   "cell_type": "code",
   "execution_count": null,
   "metadata": {
    "colab": {
     "base_uri": "https://localhost:8080/",
     "height": 894
    },
    "colab_type": "code",
    "id": "dz-A1gJXvx20",
    "outputId": "5484bbe9-d01a-4309-9024-c2514f806193"
   },
   "outputs": [],
   "source": [
    "#Logistic Regression\n",
    "try_model(log_model,X,y)"
   ]
  },
  {
   "cell_type": "markdown",
   "metadata": {
    "colab_type": "text",
    "id": "EqHbUEpv5yZg"
   },
   "source": [
    "Let's see if the reduced data can be used to determine the injury type. But we have to reduce it without the target variable. And we'll use the resampled data since it is more evenly spread out for the target class. "
   ]
  },
  {
   "cell_type": "code",
   "execution_count": null,
   "metadata": {
    "colab": {},
    "colab_type": "code",
    "id": "vG0Nw9Ap6whN"
   },
   "outputs": [],
   "source": [
    "#reducing data\n",
    "reduced_train_data = pd.DataFrame(mca.fit_transform(res_data.drop('Injury Type',axis = 1)))"
   ]
  },
  {
   "cell_type": "code",
   "execution_count": null,
   "metadata": {
    "colab": {
     "base_uri": "https://localhost:8080/",
     "height": 50
    },
    "colab_type": "code",
    "id": "CfIHkghf8y_A",
    "outputId": "9827580d-059f-4fff-e44b-634b52801519"
   },
   "outputs": [],
   "source": [
    "#percentage of data representedd\n",
    "pd.DataFrame(mca.explained_inertia_[:8]).sum()"
   ]
  },
  {
   "cell_type": "markdown",
   "metadata": {
    "colab_type": "text",
    "id": "c9umiG-h-yGo"
   },
   "source": [
    "We see that the first 8 components hold about 85 percent of the data so we'll use those. "
   ]
  },
  {
   "cell_type": "code",
   "execution_count": null,
   "metadata": {
    "colab": {},
    "colab_type": "code",
    "id": "fRD89Vq2vx22"
   },
   "outputs": [],
   "source": [
    "#new X and y\n",
    "X2 = reduced_train_data.iloc[:,:8]\n",
    "y2 = res_data['Injury Type']"
   ]
  },
  {
   "cell_type": "code",
   "execution_count": null,
   "metadata": {
    "colab": {
     "base_uri": "https://localhost:8080/",
     "height": 437
    },
    "colab_type": "code",
    "id": "cKJE6mBEvx25",
    "outputId": "e7a9425d-7f1c-48e9-af26-76b4d6eda0d0"
   },
   "outputs": [],
   "source": [
    "#Random Forest\n",
    "try_model(rf_model,X2,y2)"
   ]
  },
  {
   "cell_type": "code",
   "execution_count": null,
   "metadata": {
    "colab": {
     "base_uri": "https://localhost:8080/",
     "height": 437
    },
    "colab_type": "code",
    "id": "LQZiWEurvx27",
    "outputId": "1328dd93-2672-4669-f24e-414e3bad6016"
   },
   "outputs": [],
   "source": [
    "#KNN\n",
    "try_model(knn_model,X2,y2)"
   ]
  },
  {
   "cell_type": "code",
   "execution_count": null,
   "metadata": {
    "colab": {
     "base_uri": "https://localhost:8080/",
     "height": 860
    },
    "colab_type": "code",
    "id": "tZsaDIrp_Iw9",
    "outputId": "ec083e56-a122-42b1-f9b6-ced713c6cf50"
   },
   "outputs": [],
   "source": [
    "#Logistic Regression \n",
    "try_model(log_model,X2,y2)"
   ]
  },
  {
   "cell_type": "markdown",
   "metadata": {
    "colab_type": "text",
    "id": "zVUTlD9b_xdp"
   },
   "source": [
    "Using the reduced data, we see improvement in KNN and Random Forest but Logistic Regression's performance dropped significantly. "
   ]
  },
  {
   "cell_type": "markdown",
   "metadata": {
    "colab_type": "text",
    "id": "UQqkGVhQCUHl"
   },
   "source": [
    "We see that we can get some impovements in our models by using the reduced data rather than the selected features from the original data. But we can still try something else to improve the usefulness of our models. \n",
    "\n",
    "As of now the models are trying to predict four different classes of Injury Type, which are No Injury/Unknown, Non-Incapacitating, Incapacitating, and Fatal. We can observe the this attribute can be summerized into two classes, Non-Severe and Severe. \n",
    "\n",
    "We create a new attribute out of the Injury Type that only has a binary value and we'll use that as the new target value. "
   ]
  },
  {
   "cell_type": "code",
   "execution_count": null,
   "metadata": {
    "colab": {},
    "colab_type": "code",
    "id": "i7bYxW_wCTpY"
   },
   "outputs": [],
   "source": [
    "transformed_data['Severe'] = transformed_data['Injury Type'].map({0:0,1:0,2:1,3:1})"
   ]
  },
  {
   "cell_type": "code",
   "execution_count": null,
   "metadata": {
    "colab": {},
    "colab_type": "code",
    "id": "xnQD5PxrEhMz"
   },
   "outputs": [],
   "source": [
    "#defining new X and y\n",
    "X3,y3 = transformed_data.drop(['Injury Type','Severe'],axis = 1), transformed_data['Severe']"
   ]
  },
  {
   "cell_type": "markdown",
   "metadata": {
    "colab_type": "text",
    "id": "PFA2s9u1E_0N"
   },
   "source": [
    "now we try our models using severe as the target variable"
   ]
  },
  {
   "cell_type": "code",
   "execution_count": null,
   "metadata": {
    "colab": {
     "base_uri": "https://localhost:8080/",
     "height": 370
    },
    "colab_type": "code",
    "id": "lU9Zs9pDFFfN",
    "outputId": "64f4c04e-00a0-47ea-a913-16f7d5884147"
   },
   "outputs": [],
   "source": [
    "#Random Forest\n",
    "try_model(rf_model,X3,y3)"
   ]
  },
  {
   "cell_type": "code",
   "execution_count": null,
   "metadata": {
    "colab": {
     "base_uri": "https://localhost:8080/",
     "height": 370
    },
    "colab_type": "code",
    "id": "UQ1mE5qzE90g",
    "outputId": "907324f0-71c4-42da-ffa3-806ccbf1a187"
   },
   "outputs": [],
   "source": [
    "#KNN\n",
    "try_model(knn_model,X3,y3)"
   ]
  },
  {
   "cell_type": "code",
   "execution_count": null,
   "metadata": {
    "colab": {
     "base_uri": "https://localhost:8080/",
     "height": 625
    },
    "colab_type": "code",
    "id": "4yu9tPcnFUxV",
    "outputId": "8a103297-181d-476e-97dd-ed2a56410e6a"
   },
   "outputs": [],
   "source": [
    "#Logistic Regression\n",
    "try_model(log_model,X3,y3)"
   ]
  },
  {
   "cell_type": "markdown",
   "metadata": {
    "colab_type": "text",
    "id": "_AQpnBZ2Feom"
   },
   "source": [
    "We see now that our models are able to predict the severity of the injury based on the selected features. Now we'll try it with the resampled reduced data to see if we can get even more improvement. \n",
    "X2 is the first 8 components of our resampled data. "
   ]
  },
  {
   "cell_type": "code",
   "execution_count": null,
   "metadata": {
    "colab": {},
    "colab_type": "code",
    "id": "IIOQzmN6F1M3"
   },
   "outputs": [],
   "source": [
    "#mapping to reduced data. \n",
    "y4 = res_data['Injury Type'].map({'No injury/unknown':0,'Non-incapacitating':0,'Incapacitating':1,'Fatal':1})\n"
   ]
  },
  {
   "cell_type": "code",
   "execution_count": null,
   "metadata": {
    "colab": {
     "base_uri": "https://localhost:8080/",
     "height": 370
    },
    "colab_type": "code",
    "id": "3SPLBhdHGl-_",
    "outputId": "860afa1c-2563-4cf3-e116-27694787c7ab"
   },
   "outputs": [],
   "source": [
    "#Random Forest\n",
    "try_model(rf_model,X2,y4)"
   ]
  },
  {
   "cell_type": "code",
   "execution_count": null,
   "metadata": {
    "colab": {
     "base_uri": "https://localhost:8080/",
     "height": 370
    },
    "colab_type": "code",
    "id": "amyEIQTEG-UX",
    "outputId": "1c60968c-32b7-4eff-98a8-631c3cc45cdb"
   },
   "outputs": [],
   "source": [
    "#KNN \n",
    "try_model(knn_model,X2,y4)"
   ]
  },
  {
   "cell_type": "code",
   "execution_count": null,
   "metadata": {
    "colab": {
     "base_uri": "https://localhost:8080/",
     "height": 591
    },
    "colab_type": "code",
    "id": "xMCUuWiPHGe-",
    "outputId": "fa469ba3-8e38-4009-8ac6-3bf30a4c4694"
   },
   "outputs": [],
   "source": [
    "#Logistic Regression\n",
    "try_model(log_model,X2,y4)"
   ]
  },
  {
   "cell_type": "markdown",
   "metadata": {
    "colab_type": "text",
    "id": "0Xg9poD1HQAn"
   },
   "source": [
    "Once again we observe that logistic regression didn't perform as well as the other models on the reduced data. However, even the performance seems to have dropped when using the reduced data, the results can be trusted a little more because the reduced data came from the over-sampled data, which has a more even distribution for the target class. "
   ]
  },
  {
   "cell_type": "markdown",
   "metadata": {
    "colab_type": "text",
    "id": "2f2bcIw0IT9C"
   },
   "source": [
    "Let's try a neural network"
   ]
  },
  {
   "cell_type": "code",
   "execution_count": null,
   "metadata": {
    "colab": {},
    "colab_type": "code",
    "id": "cYNMa_DvICXI"
   },
   "outputs": [],
   "source": [
    "from sklearn.neural_network import MLPClassifier"
   ]
  },
  {
   "cell_type": "code",
   "execution_count": null,
   "metadata": {
    "colab": {},
    "colab_type": "code",
    "id": "B_yq-LnLID3H"
   },
   "outputs": [],
   "source": [
    "nn_model = MLPClassifier(activation='logistic', batch_size='auto',\n",
    "                         early_stopping=True,\n",
    "                         epsilon=1e-08, hidden_layer_sizes=(8,8,4,2),\n",
    "                         learning_rate_init=0.001,\n",
    "                         learning_rate = 'adaptive',\n",
    "                         max_iter=200,random_state=2)"
   ]
  },
  {
   "cell_type": "code",
   "execution_count": null,
   "metadata": {
    "colab": {
     "base_uri": "https://localhost:8080/",
     "height": 423
    },
    "colab_type": "code",
    "id": "hwNuZtRqH8xd",
    "outputId": "fa4388a8-57b3-4235-8644-b6935586321f"
   },
   "outputs": [],
   "source": [
    "try_model(nn_model,X,y3)"
   ]
  },
  {
   "cell_type": "code",
   "execution_count": null,
   "metadata": {
    "colab": {
     "base_uri": "https://localhost:8080/",
     "height": 370
    },
    "colab_type": "code",
    "id": "kc8DgPeKJ-iV",
    "outputId": "506da1d6-96ff-40e6-a571-404a65e94257"
   },
   "outputs": [],
   "source": [
    "try_model(nn_model,X2,y4)"
   ]
  },
  {
   "cell_type": "markdown",
   "metadata": {
    "colab_type": "text",
    "id": "de1xJ0H6Jzc5"
   },
   "source": [
    "Here we see similar results for the selected features and the new target variable but the neural network, like logistic regression, performs worse when the components are used as features. "
   ]
  },
  {
   "cell_type": "markdown",
   "metadata": {
    "colab_type": "text",
    "id": "u1bTRT9sNSgy"
   },
   "source": [
    "#Final Plotting"
   ]
  },
  {
   "cell_type": "markdown",
   "metadata": {
    "colab_type": "text",
    "id": "z32du39ONhNw"
   },
   "source": [
    "Since our selected features seem to be able to predict the injury class with decent accuracy, we'll use them to plot, once again, and get a visual on the transformed data. "
   ]
  },
  {
   "cell_type": "code",
   "execution_count": null,
   "metadata": {
    "colab": {},
    "colab_type": "code",
    "id": "uShE4W_ROVkO"
   },
   "outputs": [],
   "source": [
    "new_data = data[['Year','Collision Type','Primary Factor','Injury Type']]"
   ]
  },
  {
   "cell_type": "code",
   "execution_count": null,
   "metadata": {
    "colab": {},
    "colab_type": "code",
    "id": "VgoAGY64OygZ"
   },
   "outputs": [],
   "source": [
    "mca2 = prince.MCA(n_components = 3,\n",
    "                 n_iter = 5,\n",
    "                 copy = True,\n",
    "                 check_input = True,\n",
    "                 engine = 'auto',\n",
    "                 random_state = 42)"
   ]
  },
  {
   "cell_type": "code",
   "execution_count": null,
   "metadata": {
    "colab": {},
    "colab_type": "code",
    "id": "lzhzxhZmQGL9"
   },
   "outputs": [],
   "source": []
  },
  {
   "cell_type": "code",
   "execution_count": null,
   "metadata": {
    "colab": {},
    "colab_type": "code",
    "id": "HlME89pSPIdA"
   },
   "outputs": [],
   "source": [
    "new_data_components = mca2.fit_transform(transformed_data)"
   ]
  },
  {
   "cell_type": "markdown",
   "metadata": {
    "colab_type": "text",
    "id": "0KGllRj8THgO"
   },
   "source": [
    "###2D"
   ]
  },
  {
   "cell_type": "code",
   "execution_count": null,
   "metadata": {
    "colab": {
     "base_uri": "https://localhost:8080/",
     "height": 289
    },
    "colab_type": "code",
    "id": "2vewk21TODbg",
    "outputId": "e08396b8-2597-4cd8-f2b9-7d1566c30147"
   },
   "outputs": [],
   "source": [
    "sns.scatterplot(new_data_components[0],new_data_components[1])"
   ]
  },
  {
   "cell_type": "code",
   "execution_count": null,
   "metadata": {
    "colab": {},
    "colab_type": "code",
    "id": "_1HeWiw0RZMu"
   },
   "outputs": [],
   "source": [
    "x,y = new_data_components[0],new_data_components[1]"
   ]
  },
  {
   "cell_type": "markdown",
   "metadata": {
    "colab_type": "text",
    "id": "6hEgMPlLR-tG"
   },
   "source": [
    "Color Coding"
   ]
  },
  {
   "cell_type": "code",
   "execution_count": null,
   "metadata": {
    "colab": {
     "base_uri": "https://localhost:8080/",
     "height": 279
    },
    "colab_type": "code",
    "id": "oacrEomrNXkX",
    "outputId": "0b5e96f9-b884-448a-81c4-7073bc4c2208"
   },
   "outputs": [],
   "source": [
    "#testing clusters in plot\n",
    "x1,y1 = x[data_to_reduce['Injury Type'] == injury_types[0]],y[data_to_reduce['Injury Type'] == injury_types[0]]\n",
    "x2,y2 = x[data_to_reduce['Injury Type'] == injury_types[1]],y[data_to_reduce['Injury Type'] == injury_types[1]]\n",
    "x3,y3 = x[data_to_reduce['Injury Type'] == injury_types[2]],y[data_to_reduce['Injury Type'] == injury_types[2]]\n",
    "x4,y4 = x[data_to_reduce['Injury Type'] == injury_types[3]],y[data_to_reduce['Injury Type'] == injury_types[3]]\n",
    "\n",
    "plt.scatter(x1,y1,color = 'blue')\n",
    "plt.scatter(x2,y2,color = 'red')\n",
    "plt.scatter(x3,y3,color ='green')\n",
    "plt.scatter(x4,y4,color ='black')"
   ]
  },
  {
   "cell_type": "markdown",
   "metadata": {
    "colab_type": "text",
    "id": "ri4qQ0ikRrLP"
   },
   "source": [
    "We see that the data is being seperated in what we defined as Severe and Non-Severe"
   ]
  },
  {
   "cell_type": "code",
   "execution_count": null,
   "metadata": {
    "colab": {
     "base_uri": "https://localhost:8080/",
     "height": 279
    },
    "colab_type": "code",
    "id": "qbEKQZBhRqjY",
    "outputId": "0e4a9692-c955-456d-ba30-f15bdfc190a4"
   },
   "outputs": [],
   "source": [
    "x1,y1 = x[data_to_reduce['Injury Type'] == injury_types[0]],y[data_to_reduce['Injury Type'] == injury_types[0]]\n",
    "x2,y2 = x[data_to_reduce['Injury Type'] == injury_types[1]],y[data_to_reduce['Injury Type'] == injury_types[1]]\n",
    "x3,y3 = x[data_to_reduce['Injury Type'] == injury_types[2]],y[data_to_reduce['Injury Type'] == injury_types[2]]\n",
    "x4,y4 = x[data_to_reduce['Injury Type'] == injury_types[3]],y[data_to_reduce['Injury Type'] == injury_types[3]]\n",
    "\n",
    "plt.scatter(x1,y1,color = 'blue')\n",
    "plt.scatter(x2,y2,color = 'blue')\n",
    "plt.scatter(x3,y3,color ='green')\n",
    "plt.scatter(x4,y4,color ='green')"
   ]
  },
  {
   "cell_type": "markdown",
   "metadata": {
    "colab_type": "text",
    "id": "PXo9vi7FTXmO"
   },
   "source": [
    "###3D"
   ]
  },
  {
   "cell_type": "code",
   "execution_count": null,
   "metadata": {
    "colab": {},
    "colab_type": "code",
    "id": "s-pZM9QVTZf2"
   },
   "outputs": [],
   "source": [
    "#defining z\n",
    "z = new_data_components[2]\n",
    "\n",
    "z1,z2,z3,z4 = z[data_to_reduce['Injury Type'] == injury_types[0]],z[data_to_reduce['Injury Type'] == injury_types[1]],z[data_to_reduce['Injury Type'] == injury_types[2]],z[data_to_reduce['Injury Type'] == injury_types[3]]\n"
   ]
  },
  {
   "cell_type": "code",
   "execution_count": null,
   "metadata": {
    "colab": {
     "base_uri": "https://localhost:8080/",
     "height": 265
    },
    "colab_type": "code",
    "id": "I7JkwUX_TnAF",
    "outputId": "2c8a778d-dead-443f-8830-d6a4fe59a146"
   },
   "outputs": [],
   "source": [
    "fig = plt.figure()\n",
    "ax = fig.add_subplot(111, projection='3d')\n",
    "\n",
    "ax.scatter(x1,y1,z1,c='blue')\n",
    "ax.scatter(x2,y2,z2,c='red')\n",
    "ax.scatter(x3,y3,z3,c='green')\n",
    "ax.scatter(x4,y4,z4,c='black') "
   ]
  },
  {
   "cell_type": "markdown",
   "metadata": {
    "colab_type": "text",
    "id": "b_J0GbNyT3Zq"
   },
   "source": [
    "Now with the two clusters color coded by the severe attribute. "
   ]
  },
  {
   "cell_type": "code",
   "execution_count": null,
   "metadata": {
    "colab": {
     "base_uri": "https://localhost:8080/",
     "height": 265
    },
    "colab_type": "code",
    "id": "51Pn3rgDT2mK",
    "outputId": "5ff67db8-99b8-437a-c35d-bc1eb6221e7a"
   },
   "outputs": [],
   "source": [
    "fig = plt.figure()\n",
    "ax = fig.add_subplot(111, projection='3d')\n",
    "\n",
    "ax.scatter(x1,y1,z1,c='blue')\n",
    "ax.scatter(x2,y2,z2,c='blue')\n",
    "ax.scatter(x3,y3,z3,c='green')\n",
    "ax.scatter(x4,y4,z4,c='green')"
   ]
  },
  {
   "cell_type": "code",
   "execution_count": null,
   "metadata": {
    "colab": {},
    "colab_type": "code",
    "id": "BtMVc12xUAoI"
   },
   "outputs": [],
   "source": []
  }
 ],
 "metadata": {
  "celltoolbar": "Attachments",
  "colab": {
   "collapsed_sections": [
    "AHVv6T4ev7Mg",
    "GkwN3sixv_IK",
    "1hjWwtCfwgcM",
    "ZXdfMMjVxRY4",
    "iYfDrNt-xZWk",
    "_4Y6DweC6zZE",
    "2xmebLU7lGLq",
    "5LEJCpdHlpFV",
    "LGnRxKGyZV8F",
    "zkpbpKq_gK0r",
    "YpGuaArKoT3V",
    "ddfXNpyS1wmI",
    "dFRkHzvL41-t",
    "33U4qGdi-Y38",
    "H-eL7m8tDakH",
    "iUYf_njcHpvs",
    "MGdXNxAwHxTK",
    "gMyIRdVfKxJg",
    "zX-UapJmK3vz",
    "9rJc_W-QSMff",
    "d0_zp36_Y7z1",
    "EGCgvwgkvx4j",
    "tiLQd5A9x6W_",
    "MHTow4gfNFAH",
    "9kFd2et_vlKJ",
    "_nP262taVdIh",
    "KjK2D8rC7AEf",
    "00FLInSRFOFl",
    "CLVvZqvGXl29",
    "DfZhklJPXo7A",
    "u1bTRT9sNSgy"
   ],
   "name": "data-mining-project-final.ipynb",
   "provenance": []
  },
  "kernelspec": {
   "display_name": "Python 3",
   "language": "python",
   "name": "python3"
  },
  "language_info": {
   "codemirror_mode": {
    "name": "ipython",
    "version": 3
   },
   "file_extension": ".py",
   "mimetype": "text/x-python",
   "name": "python",
   "nbconvert_exporter": "python",
   "pygments_lexer": "ipython3",
   "version": "3.6.7"
  }
 },
 "nbformat": 4,
 "nbformat_minor": 1
}
